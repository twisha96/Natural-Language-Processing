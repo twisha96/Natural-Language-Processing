{
 "cells": [
  {
   "cell_type": "markdown",
   "metadata": {},
   "source": [
    "## GA-Net\n",
    "\n",
    "GA-Net code with Auxilliary Network  \n",
    "\n",
    "Backbone network = BiLSTM or LSTM  \n",
    "Auxiliary network = BiLSTM or LSTM  \n",
    "\n",
    "Masked Softmax function used for implementation of Gated Attention network  \n",
    "\n",
    "Datasets supported:\n",
    "1. IMDB - Classification of movie review into positive and negative\n",
    "2. TREC - Classification of question type"
   ]
  },
  {
   "cell_type": "code",
   "execution_count": 1,
   "metadata": {
    "colab": {
     "base_uri": "https://localhost:8080/",
     "height": 319
    },
    "colab_type": "code",
    "executionInfo": {
     "elapsed": 4626,
     "status": "ok",
     "timestamp": 1588374944162,
     "user": {
      "displayName": "PRAKRUTI JOSHI",
      "photoUrl": "",
      "userId": "13509940654676308883"
     },
     "user_tz": 240
    },
    "id": "D0T3nxESJstz",
    "outputId": "ec389955-e56b-4a82-8231-0deb3015ccb4",
    "scrolled": true
   },
   "outputs": [],
   "source": [
    "# !pip3 install torchtext==0.4\n",
    "# !pip3 install dill"
   ]
  },
  {
   "cell_type": "code",
   "execution_count": 2,
   "metadata": {
    "colab": {},
    "colab_type": "code",
    "id": "a9sHZi8rIXBC"
   },
   "outputs": [],
   "source": [
    "import math\n",
    "import numpy as np\n",
    "import pandas as pd\n",
    "import pdb\n",
    "\n",
    "import torch\n",
    "import torch.nn.functional as F\n",
    "import torch.distributions\n",
    "import torch.optim as optim\n",
    "from torch import nn \n",
    "from torch.autograd import Variable\n",
    "\n",
    "import torchtext\n",
    "from torchtext import data\n",
    "from torchtext import datasets\n",
    "from torchtext.vocab import Vectors, GloVe\n",
    "\n",
    "import pickle, dill, os"
   ]
  },
  {
   "cell_type": "code",
   "execution_count": 3,
   "metadata": {
    "colab": {},
    "colab_type": "code",
    "id": "6CtSKjSRaQdd"
   },
   "outputs": [],
   "source": [
    "# GANet model\n",
    "\n",
    "class GANet(torch.nn.Module):\n",
    "    def __init__(self, batch_size, num_classes, mlp_out_size, vocab_size, embedding_length, weights, aux_hidden_size = 100, backbone_hidden_size = 100, tau = 1, biDirectional_aux = False, biDirectional_backbone = False):\n",
    "        super(GANet, self).__init__() \n",
    "        \"\"\"\n",
    "        Arguments\n",
    "        ---------\n",
    "        batch_size : Size of the batch which is same as the batch_size of the data returned by the TorchText BucketIterator\n",
    "        output_size : 6 = (For TREC dataset)\n",
    "        hidden_sie : Size of the hidden_state of the LSTM/ BiLSTM\n",
    "        vocab_size : Size of the vocabulary containing unique words\n",
    "        embedding_length : Embeddding dimension of GloVe word embeddings\n",
    "        weights : Pre-trained GloVe word_embeddings which we will use to create our word_embedding look-up table \n",
    "\n",
    "        --------\n",
    "\n",
    "        \"\"\"\n",
    "        self.batch_size = batch_size\n",
    "        self.num_classes = num_classes\n",
    "        self.vocab_size = vocab_size\n",
    "        self.embedding_length = embedding_length\n",
    "        self.aux_hidden_size = aux_hidden_size\n",
    "        self.backbone_hidden_size = backbone_hidden_size \n",
    "        self.mlp_out_size = mlp_out_size\n",
    "        self.biDirectional_aux = biDirectional_aux\n",
    "        self.biDirectional_backbone = biDirectional_backbone\n",
    "        self.tau = tau\n",
    "\n",
    "        self.word_embeddings = nn.Embedding(vocab_size, embedding_length)\n",
    "        self.word_embeddings.weights = nn.Parameter(weights, requires_grad=False)\n",
    "\n",
    "        self.auxiliary = AuxiliaryNet(self.batch_size, self.aux_hidden_size, self.embedding_length, self.biDirectional_aux, tau = self.tau)\n",
    "        self.backbone = BackboneNet(self.batch_size, self.backbone_hidden_size, self.embedding_length, self.biDirectional_backbone)\n",
    "\n",
    "        if(self.biDirectional_backbone):\n",
    "            self.mlp = MLP(self.backbone_hidden_size*2, self.mlp_out_size)\n",
    "            self.FF = nn.Linear(self.backbone_hidden_size*2,num_classes)\n",
    "        else:\n",
    "            self.mlp = MLP(self.backbone_hidden_size, self.mlp_out_size)\n",
    "            self.FF = nn.Linear(self.backbone_hidden_size,num_classes)\n",
    "            \n",
    "        self.tanh = nn.Tanh()\n",
    "\n",
    "    def masked_Softmax(self, logits, mask):\n",
    "        mask_bool = mask>0\n",
    "        logits[~mask_bool] = float('-inf')\n",
    "        return torch.softmax(logits, dim=1)\n",
    "\n",
    "    \n",
    "    def forward(self,input_sequence, is_train = True):\n",
    "        input_ = self.word_embeddings(input_sequence)\n",
    "        g_t, p_t = self.auxiliary(input_, is_train)\n",
    "        out_lstm = self.backbone(input_)\n",
    "\n",
    "        if is_train:\n",
    "            e_t = self.mlp(out_lstm)\n",
    "            alpha_numerator = torch.exp(e_t)*g_t\n",
    "            alpha_denomenator = torch.sum(alpha_numerator, dim=1).repeat(e_t.shape[1],1,1).transpose(0,1)\n",
    "            alpha = alpha_numerator/alpha_denomenator\n",
    "        else:\n",
    "            e_t = self.mlp(out_lstm)              \n",
    "            alpha = self.masked_Softmax(e_t, g_t)\n",
    "            \n",
    "        c_t = torch.bmm(alpha.transpose(1,2), out_lstm)\n",
    "        logits = self.FF(c_t)\n",
    "        logits = self.tanh(logits)\n",
    "        final_output = torch.softmax(logits, dim = -1)\n",
    "        final_output = final_output.squeeze(1)\n",
    "\n",
    "        return final_output, g_t, alpha, p_t"
   ]
  },
  {
   "cell_type": "code",
   "execution_count": 4,
   "metadata": {
    "colab": {},
    "colab_type": "code",
    "id": "Pdl-jRmHb5KA"
   },
   "outputs": [],
   "source": [
    "class AuxiliaryNet(torch.nn.Module):\n",
    "\n",
    "    def __init__(self, batch_size, auxiliary_hidden_size, embedding_length, biDirectional = False, num_layers = 1, tau=1):\n",
    "        super(AuxiliaryNet, self).__init__()\n",
    "        self.batch_size = batch_size\n",
    "        self.hidden_size = auxiliary_hidden_size\n",
    "        self.embedding_length = embedding_length\n",
    "        self.biDirectional = biDirectional\n",
    "        self.num_layers = num_layers\n",
    "\n",
    "        self.aux_lstm = nn.LSTM(self.embedding_length, self.hidden_size, bidirectional = self.biDirectional, num_layers = self.num_layers, batch_first = True)   # Dropout  \n",
    "        if(self.biDirectional):\n",
    "            self.aux_linear = nn.Linear(self.hidden_size*2,1)\n",
    "        else:\n",
    "            self.aux_linear = nn.Linear(self.hidden_size,1)\n",
    "        self.sigmoid = torch.nn.Sigmoid()\n",
    "        self.tau = tau\n",
    "\n",
    "\n",
    "    def forward(self, input_sequence, is_train = True, batch_size=None):\n",
    "\n",
    "        # input : Dimensions (batch_size x seq_len x embedding_length)\n",
    "        out_lstm, (final_hidden_state, final_cell_state) = self.aux_lstm(input_sequence) # ouput dim: (batch_size x seq_len x hidden_size) \n",
    "        out_linear = self.aux_linear(out_lstm)                                           # p_t dim: (batch_size x seq_len x 1)\n",
    "        p_t = self.sigmoid(out_linear)\n",
    "\n",
    "        if is_train:\n",
    "            p_t = p_t.repeat(1,1,2)\n",
    "            p_t[:,:,0] = 1 - p_t[:,:,0] \n",
    "            g_hat = F.gumbel_softmax(p_t, self.tau, hard=False)\n",
    "            g_t = g_hat[:,:,1]\n",
    "            g_t = g_t.reshape(g_t.shape[0], g_t.shape[1], 1)\n",
    "        else:\n",
    "            # size : same as p_t [ batch_size x seq_len x 1]\n",
    "            m = torch.distributions.bernoulli.Bernoulli(p_t)   \n",
    "            g_t = m.sample()\n",
    "            \n",
    "            # We do not want all the values of g_t for a sample to be 0\n",
    "            # Make all g_t's 1 when all are zero\n",
    "            gt_sum = g_t.sum(1)\n",
    "            x = (gt_sum == 0).nonzero()\n",
    "            x = x[:,0]\n",
    "            for i in x:\n",
    "                g_t[i,:,:] = torch.ones(g_t[i,:,:].shape)\n",
    "        return g_t, p_t"
   ]
  },
  {
   "cell_type": "code",
   "execution_count": 5,
   "metadata": {
    "colab": {},
    "colab_type": "code",
    "id": "YT9xWP_MAVmq"
   },
   "outputs": [],
   "source": [
    "class BackboneNet(torch.nn.Module):\n",
    "    def __init__(self, batch_size, backbone_hidden_size, embedding_length, biDirectional = False, num_layers = 2):\n",
    "\n",
    "        super(BackboneNet, self).__init__()\n",
    "        self.batch_size = batch_size\n",
    "        self.hidden_size = backbone_hidden_size\n",
    "        self.embedding_length = embedding_length\n",
    "        self.biDirectional\t= biDirectional\n",
    "        self.num_layers = num_layers\n",
    "\n",
    "        self.backbone_lstm = nn.LSTM(self.embedding_length, self.hidden_size, bidirectional = self.biDirectional, batch_first = True, num_layers = self.num_layers)   # Dropout  \n",
    "\n",
    "    def forward(self, input_sequence, batch_size=None):\n",
    "        out_lstm, (final_hidden_state, final_cell_state) = self.backbone_lstm(input_sequence)   # ouput dim: ( batch_size x seq_len x hidden_size )\n",
    "        return out_lstm\n"
   ]
  },
  {
   "cell_type": "code",
   "execution_count": 6,
   "metadata": {
    "colab": {},
    "colab_type": "code",
    "id": "x_eU0HR-j8lW"
   },
   "outputs": [],
   "source": [
    "class MLP(torch.nn.Module):\n",
    "    def __init__(self, input_dim, output_dim):\n",
    "        super(MLP, self).__init__()\n",
    "\n",
    "        self.input_dim = input_dim\n",
    "        self.output_dim = output_dim\n",
    "\n",
    "        self.ff_1 = nn.Linear(self.input_dim, self.output_dim)\n",
    "#         self.relu = nn.ReLU()\n",
    "        self.tanh = nn.Tanh()\n",
    "        self.ff_2 = nn.Linear(self.output_dim,1)\n",
    "        self.sigmoid = nn.Sigmoid()\n",
    "\n",
    "    def forward(self,x):\n",
    "        out_1 = self.ff_1(x)\n",
    "#         out_relu = self.relu(out_1)\n",
    "        out_tanh = self.tanh(out_1)\n",
    "        out_2 = self.ff_2(out_tanh)\n",
    "#         out_sigmoid = self.sigmoid(out_2)\n",
    "\n",
    "        return out_2 "
   ]
  },
  {
   "cell_type": "code",
   "execution_count": 7,
   "metadata": {
    "colab": {},
    "colab_type": "code",
    "id": "Swz_WT2mS3zq"
   },
   "outputs": [],
   "source": [
    "def clip_gradient(model, clip_value):\n",
    "    params = list(filter(lambda p: p.grad is not None, model.parameters()))\n",
    "    for p in params:\n",
    "        p.grad.data.clamp_(-clip_value, clip_value)\n",
    "    \n",
    "def train_model(model, optim, train_iter, epoch, batch_size):\n",
    "    total_epoch_loss = 0\n",
    "    total_epoch_acc = 0\n",
    "    steps = 0\n",
    "    model.train()\n",
    "    for idx, batch in enumerate(train_iter):\n",
    "        text = batch.text[0]\n",
    "        target = batch.label\n",
    "        target = torch.autograd.Variable(target).long()\n",
    "        if torch.cuda.is_available():\n",
    "            text = text.cuda()\n",
    "            target = target.cuda()\n",
    "        if (text.size()[0] is not batch_size): # One of the batch returned by BucketIterator has length different than 32.\n",
    "            continue\n",
    "        optim.zero_grad()\n",
    "        prediction, g_t, alpha, p_t = model(text, is_train = True)\n",
    "        \n",
    "        # Modifies loss function\n",
    "        loss = loss_fn(prediction, target, g_t)\n",
    "\n",
    "        # Defualt - Cross entropy loss funtion\n",
    "#         loss = loss_fn(prediction, target)\n",
    "        \n",
    "        num_corrects = (torch.max(prediction, 1)[1].view(target.size()).data == target.data).float().sum()\n",
    "        acc = 100.0 * num_corrects/len(batch)\n",
    "        loss.backward()\n",
    "        clip_gradient(model, 1e-1)\n",
    "        optim.step()\n",
    "        steps += 1\n",
    "        \n",
    "        # Stopping condition\n",
    "        # if steps % 10 == 0:\n",
    "            # print (f'Epoch: {epoch+1}, Idx: {idx+1}, Training Loss: {loss.item():.4f}, Training Accuracy: {acc.item(): .2f}%')\n",
    "            # break\n",
    "        \n",
    "        total_epoch_loss += loss.item()\n",
    "        total_epoch_acc += acc.item()\n",
    "\n",
    "        \n",
    "    return total_epoch_loss/len(train_iter), total_epoch_acc/len(train_iter)\n",
    "\n",
    "def eval_model(model, val_iter):\n",
    "    total_epoch_loss = 0\n",
    "    total_epoch_acc = 0\n",
    "    total_attention =  0\n",
    "    total_samples = 0 \n",
    "    model.eval()\n",
    "    with torch.no_grad():\n",
    "        for idx, batch in enumerate(val_iter):\n",
    "            text = batch.text[0]                   ### If batch size changes, change this\n",
    "            if (text.size()[0] is not 32):\n",
    "                continue\n",
    "            target = batch.label\n",
    "            target = torch.autograd.Variable(target).long()\n",
    "            if torch.cuda.is_available():\n",
    "                text = text.cuda()\n",
    "                target = target.cuda()\n",
    "            prediction, g_t, alpha, p_t = model(text, is_train = False)\n",
    "            \n",
    "            # For density calculation\n",
    "            total_attention += torch.sum(g_t)\n",
    "            total_samples += g_t.shape[0] * g_t.shape[1]\n",
    "            \n",
    "            # Modifies loss function\n",
    "            loss = loss_fn(prediction, target, g_t)\n",
    "\n",
    "            # Defualt - Cross entropy loss funtion\n",
    "#             loss =  loss_fn(prediction, target)\n",
    "            \n",
    "            if math.isnan(loss.item()):\n",
    "                print(prediction, target)\n",
    "            \n",
    "            num_corrects = (torch.max(prediction, 1)[1].view(target.size()).data == target.data).sum()\n",
    "            acc = 100.0 * num_corrects/len(batch)\n",
    "            total_epoch_loss += loss.item()\n",
    "            total_epoch_acc += acc.item()\n",
    "            \n",
    "    return total_epoch_loss/len(val_iter), total_epoch_acc/len(val_iter), total_attention/total_samples"
   ]
  },
  {
   "cell_type": "code",
   "execution_count": 8,
   "metadata": {
    "colab": {},
    "colab_type": "code",
    "id": "bokvHfmizw-z"
   },
   "outputs": [],
   "source": [
    "def eval_model_test(model, index, text, label):\n",
    "    total_epoch_loss = 0\n",
    "    total_epoch_acc = 0\n",
    "    total_attention =  0\n",
    "    total_samples = 0 \n",
    "    model.eval()\n",
    "    confusion_matrix = np.zeros((model.num_classes, model.num_classes))\n",
    "    with torch.no_grad():\n",
    "        for idx, text, target in zip(index, text, label):\n",
    "            if (len(text) is not 32):\n",
    "                continue\n",
    "            target = torch.autograd.Variable(target).long()\n",
    "            if torch.cuda.is_available():\n",
    "                text = text.cuda()\n",
    "                target = target.cuda()\n",
    "            prediction, g_t, alpha, p_t = model(text, is_train = False)\n",
    "\n",
    "            predicted_target = prediction.argmax(1)\n",
    "            for t, p in zip(target, predicted_target):\n",
    "               # Rows = Actual Labels\n",
    "               # Cols = Predicted Labels\n",
    "                confusion_matrix[t][p] += 1\n",
    "\n",
    "            # For density calculation\n",
    "            total_attention += torch.sum(g_t)\n",
    "            total_samples += g_t.shape[0] * g_t.shape[1]\n",
    "            \n",
    "            # Modifies loss function\n",
    "            loss = loss_fn(prediction, target, g_t)\n",
    "\n",
    "            # Defualt - Cross entropy loss funtion\n",
    "#             loss =  loss_fn(prediction, target)\n",
    "            \n",
    "            if math.isnan(loss.item()):\n",
    "                print(prediction, target)\n",
    "            \n",
    "            num_corrects = (torch.max(prediction, 1)[1].view(target.size()).data == target.data).sum()\n",
    "            acc = 100.0 * num_corrects/batch_size\n",
    "            total_epoch_loss += loss.item()\n",
    "            total_epoch_acc += acc.item()\n",
    "            \n",
    "    return total_epoch_loss/len(index), total_epoch_acc/len(index), total_attention/total_samples, confusion_matrix"
   ]
  },
  {
   "cell_type": "code",
   "execution_count": 9,
   "metadata": {
    "colab": {},
    "colab_type": "code",
    "id": "vAjlrmkGSEQQ"
   },
   "outputs": [],
   "source": [
    "# data.py\n",
    "def load_data(dataset, batch_size= 32, embedding_length = 100, fix_length = 200):\n",
    "    # set up fields\n",
    "    tokenize = lambda x: x.split()\n",
    "    TEXT = data.Field(sequential=True, tokenize=tokenize, lower=True, include_lengths=True, batch_first=True, fix_length= fix_length)   # change fix length from here\n",
    "    # LABEL = data.LabelField()\n",
    "    LABEL = data.LabelField(dtype=torch.float)\n",
    "\n",
    "    if(dataset == 'TREC'):\n",
    "      # make splits for data\n",
    "      train, test = datasets.TREC.splits(TEXT, LABEL) \n",
    "    \n",
    "    if(dataset == 'IMDB'):\n",
    "      # make splits for data\n",
    "      train, test = datasets.IMDB.splits(TEXT, LABEL)\n",
    "    train, valid = train.split() \n",
    "    \n",
    "    \n",
    "    # build the vocabulary\n",
    "    TEXT.build_vocab(train, vectors=GloVe(name='6B', dim=embedding_length))\n",
    "    LABEL.build_vocab(train)\n",
    "    print(LABEL.vocab.__dict__)\n",
    "\n",
    "    # make iterator for splits\n",
    "    train_iter, valid_iter, test_iter = data.BucketIterator.splits(\n",
    "      (train, valid, test), batch_size= batch_size, device=0)\n",
    "\n",
    "    word_embeddings = TEXT.vocab.vectors\n",
    "    vocab_size = len(TEXT.vocab)\n",
    "\n",
    "    return TEXT, vocab_size, word_embeddings, train_iter, valid_iter, test_iter"
   ]
  },
  {
   "cell_type": "code",
   "execution_count": 10,
   "metadata": {
    "colab": {},
    "colab_type": "code",
    "id": "dkoJVXJ2mzCD"
   },
   "outputs": [],
   "source": [
    "def loss_fn(output, target, g_t, lambda_ = 1e-4):\n",
    "    T = g_t.shape[0]*g_t.shape[1]\n",
    "#     loss = F.cross_entropy(output, target) + lambda_ * abs(torch.sum(g_t)/T - 2)\n",
    "    loss = F.cross_entropy(output, target) + lambda_ * torch.sum(g_t)/T\n",
    "    return loss"
   ]
  },
  {
   "cell_type": "markdown",
   "metadata": {
    "colab_type": "text",
    "id": "JnWbLQzfzQOK"
   },
   "source": [
    "### Parameter tuning\n",
    "\n",
    "1. Dataset:\n",
    "    - IMDB  \n",
    "    - TREC  \n",
    "  \n",
    "2. Using the parameters  \n",
    "    - biDirectional_aux: If true, auxilliary network will be BiLSTM, simple LSTM otherwise\n",
    "    - biDirectional_backbone: If true, backbone network will be BiLSTM, simple LSTM otherwise"
   ]
  },
  {
   "cell_type": "code",
   "execution_count": 11,
   "metadata": {
    "colab": {},
    "colab_type": "code",
    "id": "PImJSOJmzQgT"
   },
   "outputs": [],
   "source": [
    "# Over-writing the loss function to simple cross entropy loss\n",
    "# loss_fn = F.cross_entropy\n",
    "\n",
    "folder = 'models_IMDB'\n",
    "sub_folder = 'BiLSTM+BiLSTM_seqLength_300_100epochs'\n",
    "if not os.path.exists(folder + '/' + sub_folder):\n",
    "    os.makedirs(folder + '/' + sub_folder)\n",
    "\n",
    "learning_rate = 2e-5\n",
    "batch_size = 32\n",
    "output_size = 2\n",
    "hidden_size = 256\n",
    "embedding_length = 100\n",
    "mlp_out_size = 32\n",
    "aux_hidden_size = 100\n",
    "batch_hidden_size = 100\n",
    "tau = 1.5\n",
    "\n",
    "num_epochs = 10\n",
    "dataset = 'IMDB'\n",
    "biDirectional_aux = True\n",
    "biDirectional_backbone = True\n",
    "\n",
    "if(dataset == 'IMDB'):\n",
    "    num_classes = 2\n",
    "    fix_length = 300\n",
    "elif(dataset == 'TREC'):\n",
    "    num_classes = 6\n",
    "    fix_length = 10"
   ]
  },
  {
   "cell_type": "code",
   "execution_count": 12,
   "metadata": {
    "colab": {
     "base_uri": "https://localhost:8080/",
     "height": 118
    },
    "colab_type": "code",
    "executionInfo": {
     "elapsed": 429358,
     "status": "ok",
     "timestamp": 1588380618297,
     "user": {
      "displayName": "KEYA DESAI",
      "photoUrl": "https://lh3.googleusercontent.com/a-/AOh14GgWj4Q9FehaWwdd2l9nB8tiFwtyepXVTWqjW27J=s64",
      "userId": "15881725042056431276"
     },
     "user_tz": 240
    },
    "id": "83fJVPU21eE3",
    "outputId": "16c06be1-3d53-45f5-88f7-7e68ec8aa2ba"
   },
   "outputs": [
    {
     "name": "stderr",
     "output_type": "stream",
     "text": [
      "The `device` argument should be set by using `torch.device` or passing a string as an argument. This behavior will be deprecated soon and currently defaults to cpu.\n",
      "The `device` argument should be set by using `torch.device` or passing a string as an argument. This behavior will be deprecated soon and currently defaults to cpu.\n",
      "The `device` argument should be set by using `torch.device` or passing a string as an argument. This behavior will be deprecated soon and currently defaults to cpu.\n"
     ]
    },
    {
     "name": "stdout",
     "output_type": "stream",
     "text": [
      "{'freqs': Counter({'neg': 8795, 'pos': 8705}), 'itos': ['neg', 'pos'], 'unk_index': None, 'stoi': defaultdict(None, {'neg': 0, 'pos': 1}), 'vectors': None}\n"
     ]
    }
   ],
   "source": [
    "TEXT, vocab_size, word_embeddings, train_iter, valid_iter, test_iter = load_data(dataset, batch_size, embedding_length, fix_length)\n",
    "weights = word_embeddings"
   ]
  },
  {
   "cell_type": "code",
   "execution_count": 13,
   "metadata": {
    "colab": {},
    "colab_type": "code",
    "id": "96mqsSLQtLo_"
   },
   "outputs": [],
   "source": [
    "model = GANet(batch_size, num_classes, mlp_out_size, vocab_size, embedding_length, weights, tau=tau, biDirectional_aux = biDirectional_aux, biDirectional_backbone = biDirectional_backbone)\n",
    "optim = torch.optim.Adam(filter(lambda p: p.requires_grad, model.parameters()))"
   ]
  },
  {
   "cell_type": "markdown",
   "metadata": {
    "colab_type": "text",
    "id": "RTetQ1CVzVcf"
   },
   "source": [
    "### Training\n"
   ]
  },
  {
   "cell_type": "code",
   "execution_count": 14,
   "metadata": {},
   "outputs": [],
   "source": [
    "num_bad_epochs = 0\n",
    "epoch = 0\n",
    "least_loss = float('inf')\n",
    "training_stats = pd.DataFrame(columns=['Epoch', 'Train_Loss', 'Train_Acc', 'Val_Loss', 'Val_Acc', 'Val_Density'])"
   ]
  },
  {
   "cell_type": "code",
   "execution_count": 15,
   "metadata": {
    "colab": {
     "base_uri": "https://localhost:8080/",
     "height": 635
    },
    "colab_type": "code",
    "executionInfo": {
     "elapsed": 15955,
     "status": "ok",
     "timestamp": 1588380848696,
     "user": {
      "displayName": "KEYA DESAI",
      "photoUrl": "https://lh3.googleusercontent.com/a-/AOh14GgWj4Q9FehaWwdd2l9nB8tiFwtyepXVTWqjW27J=s64",
      "userId": "15881725042056431276"
     },
     "user_tz": 240
    },
    "id": "EcU6SSW8bDln",
    "outputId": "f4519a2b-7954-48ef-eaba-407d841d6fc3",
    "scrolled": true
   },
   "outputs": [
    {
     "name": "stdout",
     "output_type": "stream",
     "text": [
      "Epoch: 01\n",
      "*** Least validation loss\n",
      "Train Loss: 0.604, Train Acc: 69.05%\n",
      "Val Loss: 0.531902, Val Acc: 79.24%, Val Density: 0.3229\n",
      "-------------\n",
      "Epoch: 02\n",
      "Train Loss: 0.497, Train Acc: 84.48%\n",
      "Val Loss: 0.576595, Val Acc: 73.26%, Val Density: 0.1171\n",
      "-------------\n",
      "Epoch: 03\n",
      "*** Least validation loss\n",
      "Train Loss: 0.453, Train Acc: 90.50%\n",
      "Val Loss: 0.524269, Val Acc: 80.39%, Val Density: 0.9801\n",
      "-------------\n",
      "Epoch: 04\n",
      "*** Least validation loss\n",
      "Train Loss: 0.432, Train Acc: 93.33%\n",
      "Val Loss: 0.500211, Val Acc: 83.70%, Val Density: 0.9843\n",
      "-------------\n",
      "Epoch: 05\n",
      "*** Least validation loss\n",
      "Train Loss: 0.420, Train Acc: 94.93%\n",
      "Val Loss: 0.498856, Val Acc: 83.80%, Val Density: 0.9795\n",
      "-------------\n",
      "Epoch: 06\n",
      "*** Least validation loss\n",
      "Train Loss: 0.412, Train Acc: 95.92%\n",
      "Val Loss: 0.496568, Val Acc: 84.08%, Val Density: 0.9688\n",
      "-------------\n",
      "Epoch: 07\n",
      "Train Loss: 0.407, Train Acc: 96.58%\n",
      "Val Loss: 0.497384, Val Acc: 84.19%, Val Density: 0.9673\n",
      "-------------\n",
      "Epoch: 08\n",
      "Train Loss: 0.405, Train Acc: 96.86%\n",
      "Val Loss: 0.507950, Val Acc: 82.58%, Val Density: 0.6407\n",
      "-------------\n",
      "Epoch: 09\n",
      "Train Loss: 0.403, Train Acc: 97.18%\n",
      "Val Loss: 0.513294, Val Acc: 81.85%, Val Density: 0.6607\n",
      "-------------\n",
      "Epoch: 10\n",
      "Train Loss: 0.401, Train Acc: 97.39%\n",
      "Val Loss: 0.499749, Val Acc: 83.78%, Val Density: 0.6501\n",
      "-------------\n"
     ]
    }
   ],
   "source": [
    "while(True):\n",
    "    train_loss, train_acc = train_model(model, optim, train_iter, epoch, batch_size)\n",
    "    val_loss, val_acc, val_density = eval_model(model, valid_iter)\n",
    "    print(f'Epoch: {epoch+1:02}')\n",
    "    if val_loss < least_loss:\n",
    "        least_loss = val_loss\n",
    "        num_bad_epochs = 0\n",
    "        print(\"*** Least validation loss\")\n",
    "        torch.save(model.state_dict(), folder + '/' + sub_folder + '/model_' + str(num_epochs) + '_best')\n",
    "    else:\n",
    "        num_bad_epochs += 1\n",
    "    #     print(f'Epoch: {epoch+1:2}, Train Loss: {train_loss:.3f}, Train Acc: {train_acc:.2f}%')\n",
    "    print(f'Train Loss: {train_loss:.3f}, Train Acc: {train_acc:.2f}%')\n",
    "    print(f'Val Loss: {val_loss:3f}, Val Acc: {val_acc:.2f}%, Val Density: {val_density:.4f}')\n",
    "    print(\"-------------\")\n",
    "\n",
    "    training_stats = training_stats.append(\n",
    "      pd.Series([epoch+1, train_loss, train_acc, val_loss, val_acc, val_density], index=training_stats.columns),\n",
    "      ignore_index=True)\n",
    "    #     if num_bad_epochs >= 10:\n",
    "    #         break\n",
    "\n",
    "    epoch += 1\n",
    "    if epoch == num_epochs:\n",
    "        break\n",
    "\n",
    "torch.save(model.state_dict(), folder + '/' + sub_folder + '/model_' + str(num_epochs) + '_last')\n",
    "training_stats.to_csv(folder + '/' + sub_folder + '/epochs.csv')"
   ]
  },
  {
   "cell_type": "code",
   "execution_count": 16,
   "metadata": {
    "colab": {
     "base_uri": "https://localhost:8080/",
     "height": 33
    },
    "colab_type": "code",
    "executionInfo": {
     "elapsed": 485,
     "status": "ok",
     "timestamp": 1588380683078,
     "user": {
      "displayName": "KEYA DESAI",
      "photoUrl": "https://lh3.googleusercontent.com/a-/AOh14GgWj4Q9FehaWwdd2l9nB8tiFwtyepXVTWqjW27J=s64",
      "userId": "15881725042056431276"
     },
     "user_tz": 240
    },
    "id": "ErBe8iGNwCQ3",
    "outputId": "dc12025a-138d-4a99-f564-f123f74b2d77"
   },
   "outputs": [],
   "source": [
    "# test_loss, test_acc, density, confusion_matrix = eval_model(model, test_iter)\n",
    "# print(f'Test Loss: {test_loss:.3f}, Test Acc: {test_ac/c:.2f}, Density: {density:.4f} ')"
   ]
  },
  {
   "cell_type": "markdown",
   "metadata": {
    "colab_type": "text",
    "id": "IDwD_zgrv0GD"
   },
   "source": [
    "### Saving model parameters\n"
   ]
  },
  {
   "cell_type": "code",
   "execution_count": 17,
   "metadata": {
    "colab": {},
    "colab_type": "code",
    "id": "FbBzyMXytKmf"
   },
   "outputs": [],
   "source": [
    "# save parameters\n",
    "para_dict = {'lr' : learning_rate, 'batch_size' : batch_size, 'embedding_length' : embedding_length, 'output_size' : output_size, \n",
    "             'hidden_size' : hidden_size, 'mlp_out_size': mlp_out_size, 'aux_hidden_size' : aux_hidden_size, 'batch_hidden_size': batch_hidden_size,\n",
    "             'tau': tau, 'num_epochs' : num_epochs}\n",
    "file = open(folder + '/' + sub_folder + '/parameters.txt', 'wb')\n",
    "pickle.dump(para_dict, file)\n",
    "file.close()"
   ]
  },
  {
   "cell_type": "code",
   "execution_count": 18,
   "metadata": {
    "colab": {
     "base_uri": "https://localhost:8080/",
     "height": 50
    },
    "colab_type": "code",
    "executionInfo": {
     "elapsed": 378,
     "status": "ok",
     "timestamp": 1588380699046,
     "user": {
      "displayName": "KEYA DESAI",
      "photoUrl": "https://lh3.googleusercontent.com/a-/AOh14GgWj4Q9FehaWwdd2l9nB8tiFwtyepXVTWqjW27J=s64",
      "userId": "15881725042056431276"
     },
     "user_tz": 240
    },
    "id": "mIChU9iIvzhl",
    "outputId": "39b83d23-65ba-4a2f-b38c-f1116ade05ff"
   },
   "outputs": [],
   "source": [
    "def save_to_pickle(dataSetObject,PATH):\n",
    "    with open(PATH,'wb') as output:\n",
    "        dill.dump(dataSetObject, output)\n",
    "        \n",
    "torch.save(weights, folder + '/' + sub_folder + '/weights')\n",
    "save_to_pickle(TEXT, folder + '/' + sub_folder + '/TEXT')\n",
    "index = []\n",
    "text = []\n",
    "label = []\n",
    "for idx, batch in enumerate(test_iter):\n",
    "    index.append(idx)\n",
    "    text.append(batch.text[0])\n",
    "    label.append(batch.label)\n",
    "torch.save(index, folder + '/' + sub_folder + '/index')\n",
    "torch.save(text, folder + '/' + sub_folder + '/text')\n",
    "torch.save(label, folder + '/' + sub_folder + '/label')"
   ]
  },
  {
   "cell_type": "markdown",
   "metadata": {
    "colab_type": "text",
    "id": "FWjigbUC0SYA"
   },
   "source": [
    "### Testing"
   ]
  },
  {
   "cell_type": "code",
   "execution_count": 19,
   "metadata": {
    "colab": {},
    "colab_type": "code",
    "id": "oHB-pLQCwErK"
   },
   "outputs": [],
   "source": [
    "weights = torch.load(folder + '/' + sub_folder + '/weights')\n",
    "index = torch.load(folder + '/' + sub_folder + '/index')\n",
    "text = torch.load(folder + '/' + sub_folder + '/text')\n",
    "label = torch.load(folder + '/' + sub_folder + '/label')"
   ]
  },
  {
   "cell_type": "code",
   "execution_count": 20,
   "metadata": {
    "colab": {
     "base_uri": "https://localhost:8080/",
     "height": 326
    },
    "colab_type": "code",
    "executionInfo": {
     "elapsed": 423,
     "status": "ok",
     "timestamp": 1588380865155,
     "user": {
      "displayName": "KEYA DESAI",
      "photoUrl": "https://lh3.googleusercontent.com/a-/AOh14GgWj4Q9FehaWwdd2l9nB8tiFwtyepXVTWqjW27J=s64",
      "userId": "15881725042056431276"
     },
     "user_tz": 240
    },
    "id": "jSy7jte40RER",
    "outputId": "14776204-f40e-4b87-c41e-bd27ef5f81b0"
   },
   "outputs": [
    {
     "data": {
      "text/plain": [
       "GANet(\n",
       "  (word_embeddings): Embedding(202054, 100)\n",
       "  (auxiliary): AuxiliaryNet(\n",
       "    (aux_lstm): LSTM(100, 100, batch_first=True, bidirectional=True)\n",
       "    (aux_linear): Linear(in_features=200, out_features=1, bias=True)\n",
       "    (sigmoid): Sigmoid()\n",
       "  )\n",
       "  (backbone): BackboneNet(\n",
       "    (backbone_lstm): LSTM(100, 100, num_layers=2, batch_first=True, bidirectional=True)\n",
       "  )\n",
       "  (mlp): MLP(\n",
       "    (ff_1): Linear(in_features=200, out_features=32, bias=True)\n",
       "    (tanh): Tanh()\n",
       "    (ff_2): Linear(in_features=32, out_features=1, bias=True)\n",
       "    (sigmoid): Sigmoid()\n",
       "  )\n",
       "  (FF): Linear(in_features=200, out_features=2, bias=True)\n",
       "  (tanh): Tanh()\n",
       ")"
      ]
     },
     "execution_count": 20,
     "metadata": {},
     "output_type": "execute_result"
    }
   ],
   "source": [
    "loaded_model = GANet(batch_size, num_classes, mlp_out_size, vocab_size, embedding_length, weights, tau=tau, biDirectional_aux=biDirectional_aux, biDirectional_backbone=biDirectional_backbone)\n",
    "loaded_model.load_state_dict(torch.load(folder + '/' + sub_folder + '/model_' + str(num_epochs) + '_best'))\n",
    "loaded_model.eval()"
   ]
  },
  {
   "cell_type": "code",
   "execution_count": 21,
   "metadata": {
    "colab": {
     "base_uri": "https://localhost:8080/",
     "height": 277
    },
    "colab_type": "code",
    "executionInfo": {
     "elapsed": 454,
     "status": "ok",
     "timestamp": 1588380867646,
     "user": {
      "displayName": "KEYA DESAI",
      "photoUrl": "https://lh3.googleusercontent.com/a-/AOh14GgWj4Q9FehaWwdd2l9nB8tiFwtyepXVTWqjW27J=s64",
      "userId": "15881725042056431276"
     },
     "user_tz": 240
    },
    "id": "vwMLkn7s7cnC",
    "outputId": "04d963c3-2128-4257-f8e1-9ed7682a3d3d",
    "scrolled": true
   },
   "outputs": [
    {
     "name": "stdout",
     "output_type": "stream",
     "text": [
      "Test Loss: 0.506, Test Acc: 83.34, Density: 0.9686 \n",
      "Confusion Matrix\n",
      "[[10302.  2197.]\n",
      " [ 1940. 10553.]]\n",
      "Class Precisions:\n",
      "[0.8415291619016501, 0.8276862745098039]\n",
      "Overall Precision:  0.834607718205727\n",
      "Class Recalls:\n",
      "[0.824225938075046, 0.8447130393020091]\n",
      "Overall Recall:  0.8344694886885275\n",
      "F1 Score:  0.8345385977231861\n",
      "-------------\n"
     ]
    }
   ],
   "source": [
    "test_loss, test_acc, density, confusion_matrix = eval_model_test(loaded_model, index, text, label)\n",
    "print(f'Test Loss: {test_loss:.3f}, Test Acc: {test_acc:.2f}, Density: {density:.4f} ')\n",
    "print(\"Confusion Matrix\")\n",
    "print(confusion_matrix)\n",
    "precision = []\n",
    "recall = []\n",
    "for i in range(len(confusion_matrix)):\n",
    "    precision.append(confusion_matrix[i][i]/sum(confusion_matrix[:, i]) if sum(confusion_matrix[:, i])!=0 else 1)\n",
    "    recall.append(confusion_matrix[i][i]/sum(confusion_matrix[i, :]) if sum(confusion_matrix[i, :])!=0 else 1)\n",
    "overall_precision = sum(precision)/len(precision)\n",
    "overall_recall = sum(recall)/len(recall)\n",
    "f1_score = 2*overall_precision*overall_recall/(overall_precision+overall_recall)\n",
    "print(\"Class Precisions:\")\n",
    "print(precision)\n",
    "print(\"Overall Precision: \", overall_precision)\n",
    "print(\"Class Recalls:\")\n",
    "print(recall)\n",
    "print(\"Overall Recall: \", overall_recall)\n",
    "print(\"F1 Score: \", f1_score)\n",
    "print(\"-------------\")"
   ]
  },
  {
   "cell_type": "code",
   "execution_count": 22,
   "metadata": {},
   "outputs": [
    {
     "data": {
      "text/plain": [
       "GANet(\n",
       "  (word_embeddings): Embedding(202054, 100)\n",
       "  (auxiliary): AuxiliaryNet(\n",
       "    (aux_lstm): LSTM(100, 100, batch_first=True, bidirectional=True)\n",
       "    (aux_linear): Linear(in_features=200, out_features=1, bias=True)\n",
       "    (sigmoid): Sigmoid()\n",
       "  )\n",
       "  (backbone): BackboneNet(\n",
       "    (backbone_lstm): LSTM(100, 100, num_layers=2, batch_first=True, bidirectional=True)\n",
       "  )\n",
       "  (mlp): MLP(\n",
       "    (ff_1): Linear(in_features=200, out_features=32, bias=True)\n",
       "    (tanh): Tanh()\n",
       "    (ff_2): Linear(in_features=32, out_features=1, bias=True)\n",
       "    (sigmoid): Sigmoid()\n",
       "  )\n",
       "  (FF): Linear(in_features=200, out_features=2, bias=True)\n",
       "  (tanh): Tanh()\n",
       ")"
      ]
     },
     "execution_count": 22,
     "metadata": {},
     "output_type": "execute_result"
    }
   ],
   "source": [
    "loaded_model_last = GANet(batch_size, num_classes, mlp_out_size, vocab_size, embedding_length, weights, tau=tau, biDirectional_aux=biDirectional_aux, biDirectional_backbone=biDirectional_backbone)\n",
    "loaded_model_last.load_state_dict(torch.load(folder + '/' + sub_folder + '/model_' + str(num_epochs) + '_last'))\n",
    "loaded_model_last.eval()"
   ]
  },
  {
   "cell_type": "code",
   "execution_count": 23,
   "metadata": {},
   "outputs": [
    {
     "name": "stdout",
     "output_type": "stream",
     "text": [
      "Test Loss: 0.510, Test Acc: 82.82, Density: 0.6426 \n",
      "Confusion Matrix\n",
      "[[11047.  1452.]\n",
      " [ 2814.  9679.]]\n",
      "Class Precisions:\n",
      "[0.7969843445638842, 0.8695534992363669]\n",
      "Overall Precision:  0.8332689219001256\n",
      "Class Recalls:\n",
      "[0.8838307064565165, 0.7747538621628112]\n",
      "Overall Recall:  0.8292922843096638\n",
      "F1 Score:  0.8312758472960659\n",
      "-------------\n"
     ]
    }
   ],
   "source": [
    "test_loss, test_acc, density, confusion_matrix = eval_model_test(loaded_model_last, index, text, label)\n",
    "print(f'Test Loss: {test_loss:.3f}, Test Acc: {test_acc:.2f}, Density: {density:.4f} ')\n",
    "print(\"Confusion Matrix\")\n",
    "print(confusion_matrix)\n",
    "precision = []\n",
    "recall = []\n",
    "for i in range(len(confusion_matrix)):\n",
    "    precision.append(confusion_matrix[i][i]/sum(confusion_matrix[:, i]) if sum(confusion_matrix[:, i])!=0 else 1)\n",
    "    recall.append(confusion_matrix[i][i]/sum(confusion_matrix[i, :]) if sum(confusion_matrix[i, :])!=0 else 1)\n",
    "overall_precision = sum(precision)/len(precision)\n",
    "overall_recall = sum(recall)/len(recall)\n",
    "f1_score = 2*overall_precision*overall_recall/(overall_precision+overall_recall)\n",
    "print(\"Class Precisions:\")\n",
    "print(precision)\n",
    "print(\"Overall Precision: \", overall_precision)\n",
    "print(\"Class Recalls:\")\n",
    "print(recall)\n",
    "print(\"Overall Recall: \", overall_recall)\n",
    "print(\"F1 Score: \", f1_score)\n",
    "print(\"-------------\")"
   ]
  },
  {
   "cell_type": "code",
   "execution_count": 24,
   "metadata": {
    "colab": {
     "base_uri": "https://localhost:8080/",
     "height": 70
    },
    "colab_type": "code",
    "executionInfo": {
     "elapsed": 322,
     "status": "ok",
     "timestamp": 1588380873576,
     "user": {
      "displayName": "KEYA DESAI",
      "photoUrl": "https://lh3.googleusercontent.com/a-/AOh14GgWj4Q9FehaWwdd2l9nB8tiFwtyepXVTWqjW27J=s64",
      "userId": "15881725042056431276"
     },
     "user_tz": 240
    },
    "id": "kyiL6a5P0g8O",
    "outputId": "5a3c920f-363e-44d2-aebb-1eb466d476fe"
   },
   "outputs": [
    {
     "name": "stdout",
     "output_type": "stream",
     "text": [
      "----- Parameters -----\n",
      "{'lr': 2e-05, 'batch_size': 32, 'embedding_length': 100, 'output_size': 2, 'hidden_size': 256, 'mlp_out_size': 32, 'aux_hidden_size': 100, 'batch_hidden_size': 100, 'tau': 1.5, 'num_epochs': 10}\n"
     ]
    }
   ],
   "source": [
    "print(\"----- Parameters -----\")\n",
    "file = open(folder + '/' + sub_folder + '/parameters.txt', 'rb')\n",
    "para_dict = pickle.load(file)\n",
    "file.close()\n",
    "print(para_dict)"
   ]
  },
  {
   "cell_type": "code",
   "execution_count": 25,
   "metadata": {
    "colab": {
     "base_uri": "https://localhost:8080/",
     "height": 248
    },
    "colab_type": "code",
    "executionInfo": {
     "elapsed": 377,
     "status": "ok",
     "timestamp": 1588381015071,
     "user": {
      "displayName": "KEYA DESAI",
      "photoUrl": "https://lh3.googleusercontent.com/a-/AOh14GgWj4Q9FehaWwdd2l9nB8tiFwtyepXVTWqjW27J=s64",
      "userId": "15881725042056431276"
     },
     "user_tz": 240
    },
    "id": "kj2OOxjKaAIm",
    "outputId": "4d5d4c5c-f39a-4fa8-e875-9616a4c3b8df"
   },
   "outputs": [
    {
     "name": "stdout",
     "output_type": "stream",
     "text": [
      "------------\n",
      "['this', 'is', 'one', 'of', 'the', 'best', 'creation', 'of', 'nolan.', 'i', 'can', 'say,', \"it's\", 'his', 'magnum', 'opus.', 'loved', 'the', 'soundtrack', 'and', 'especially', 'those', 'creative', 'dialogues.']\n",
      "prediction = tensor([[0.1192, 0.8808]], grad_fn=<SqueezeBackward1>)\n",
      "tensor(1)\n",
      "------------\n",
      "['ohh,', 'such', 'a', 'ridiculous', 'movie.', 'not', 'gonna', 'recommend', 'it', 'to', 'anyone.', 'complete', 'waste', 'of', 'time', 'and', 'money.']\n",
      "prediction = tensor([[0.8808, 0.1192]], grad_fn=<SqueezeBackward1>)\n",
      "tensor(0)\n",
      "------------\n"
     ]
    },
    {
     "name": "stderr",
     "output_type": "stream",
     "text": [
      "/usr/local/lib/python3.7/site-packages/ipykernel_launcher.py:9: UserWarning: volatile was removed and now has no effect. Use `with torch.no_grad():` instead.\n",
      "  if __name__ == '__main__':\n"
     ]
    }
   ],
   "source": [
    "def test_sentence(test_sen):\n",
    "    test_sen_list = TEXT.preprocess(test_sen)\n",
    "    print(test_sen_list)\n",
    "    test_sen = [[TEXT.vocab.stoi[x] for x in test_sen_list]]\n",
    "    # print(test_sen)\n",
    "\n",
    "    test_sen = np.asarray(test_sen)\n",
    "    test_sen = torch.LongTensor(test_sen)\n",
    "    test_tensor = Variable(test_sen, volatile=True)\n",
    "\n",
    "    # print(test_tensor)\n",
    "    loaded_model.eval()\n",
    "    prediction = loaded_model(test_tensor, is_train = False)\n",
    "    print(\"prediction =\", prediction[0])\n",
    "\n",
    "    out_class = torch.argmax(prediction[0])\n",
    "    return out_class\n",
    "\n",
    "\n",
    "''' Let us now predict the sentiment on a single sentence just for the testing purpose. '''\n",
    "test_sen1 = \"This is one of the best creation of Nolan. I can say, it's his magnum opus. Loved the soundtrack and especially those creative dialogues.\"\n",
    "test_sen2 = \"Ohh, such a ridiculous movie. Not gonna recommend it to anyone. Complete waste of time and money.\"\n",
    "\n",
    "print('------------')\n",
    "x = test_sentence(test_sen1)\n",
    "print(x)\n",
    "print('------------')\n",
    "x = test_sentence(test_sen2)\n",
    "print(x)\n",
    "print('------------')"
   ]
  },
  {
   "cell_type": "code",
   "execution_count": 26,
   "metadata": {
    "colab": {
     "base_uri": "https://localhost:8080/",
     "height": 266
    },
    "colab_type": "code",
    "executionInfo": {
     "elapsed": 594,
     "status": "ok",
     "timestamp": 1588381019433,
     "user": {
      "displayName": "KEYA DESAI",
      "photoUrl": "https://lh3.googleusercontent.com/a-/AOh14GgWj4Q9FehaWwdd2l9nB8tiFwtyepXVTWqjW27J=s64",
      "userId": "15881725042056431276"
     },
     "user_tz": 240
    },
    "id": "ULyILBw4hE7s",
    "outputId": "ecced7ce-02ea-4ffe-a1c6-275b8831d54e"
   },
   "outputs": [
    {
     "data": {
      "image/png": "[encoded data removed]",
      "text/plain": [
       "<Figure size 432x288 with 1 Axes>"
      ]
     },
     "metadata": {
      "needs_background": "light"
     },
     "output_type": "display_data"
    }
   ],
   "source": [
    "import matplotlib.pyplot as plt\n",
    "plt.plot(training_stats['Train_Loss'], label=\"Train\")\n",
    "plt.plot(training_stats['Val_Loss'], label=\"Validation\")\n",
    "plt.title(\"Train and Validation Loss\")\n",
    "plt.xlabel(\"Epoch\")\n",
    "plt.ylabel(\"Loss\")\n",
    "plt.legend()\n",
    "plt.show()"
   ]
  },
  {
   "cell_type": "code",
   "execution_count": 27,
   "metadata": {
    "colab": {
     "base_uri": "https://localhost:8080/",
     "height": 267
    },
    "colab_type": "code",
    "executionInfo": {
     "elapsed": 443,
     "status": "ok",
     "timestamp": 1588381020340,
     "user": {
      "displayName": "KEYA DESAI",
      "photoUrl": "https://lh3.googleusercontent.com/a-/AOh14GgWj4Q9FehaWwdd2l9nB8tiFwtyepXVTWqjW27J=s64",
      "userId": "15881725042056431276"
     },
     "user_tz": 240
    },
    "id": "U3bgK3hlhE7x",
    "outputId": "411d52c7-3017-4b3f-e95a-d2ad51bba846"
   },
   "outputs": [
    {
     "data": {
      "image/png": "[encoded data removed]",
      "text/plain": [
       "<Figure size 432x288 with 1 Axes>"
      ]
     },
     "metadata": {
      "needs_background": "light"
     },
     "output_type": "display_data"
    }
   ],
   "source": [
    "plt.plot(training_stats['Train_Acc'], label=\"Train\")\n",
    "plt.plot(training_stats['Val_Acc'], label=\"Validation\")\n",
    "plt.title(\"Train and Validation Accuracy\")\n",
    "plt.xlabel(\"Epoch\")\n",
    "plt.ylabel(\"Accuracy\")\n",
    "plt.legend()\n",
    "plt.show()"
   ]
  },
  {
   "cell_type": "code",
   "execution_count": 28,
   "metadata": {
    "colab": {
     "base_uri": "https://localhost:8080/",
     "height": 228
    },
    "colab_type": "code",
    "executionInfo": {
     "elapsed": 384,
     "status": "ok",
     "timestamp": 1588381021617,
     "user": {
      "displayName": "KEYA DESAI",
      "photoUrl": "https://lh3.googleusercontent.com/a-/AOh14GgWj4Q9FehaWwdd2l9nB8tiFwtyepXVTWqjW27J=s64",
      "userId": "15881725042056431276"
     },
     "user_tz": 240
    },
    "id": "SU699NCOhE7-",
    "outputId": "6b76729d-c2dd-4c11-e8c8-bd22c14e98f3",
    "scrolled": false
   },
   "outputs": [
    {
     "name": "stdout",
     "output_type": "stream",
     "text": [
      "['this', 'is', 'one', 'of', 'the', 'best', 'creation', 'of', 'nolan.', 'i', 'can', 'say,', \"it's\", 'his', 'magnum', 'opus.', 'loved', 'the', 'soundtrack', 'and', 'especially', 'those', 'creative', 'dialogues.']\n",
      "prediction = tensor([[0.1192, 0.8808]], grad_fn=<SqueezeBackward1>)\n",
      "this 1 0.9999545812606812 0.012370645068585873\n",
      "is 1 0.9999703168869019 0.03134990483522415\n",
      "one 1 0.999972939491272 0.023591479286551476\n",
      "of 1 0.9999746084213257 0.038561850786209106\n",
      "the 1 0.9999434947967529 0.045071687549352646\n",
      "best 1 0.9999802112579346 0.05032956972718239\n",
      "creation 1 0.9999780654907227 0.029235979542136192\n",
      "of 1 0.9999785423278809 0.04318837821483612\n",
      "nolan. 1 0.9999692440032959 0.04878738522529602\n",
      "i 1 0.999970555305481 0.04954404756426811\n",
      "can 1 0.9999628067016602 0.048830658197402954\n",
      "say, 1 0.9999382495880127 0.049466751515865326\n",
      "it's 1 0.9999468326568604 0.04993494600057602\n",
      "his 1 0.999971866607666 0.04916755482554436\n",
      "magnum 1 0.9999529123306274 0.04966219142079353\n",
      "opus. 1 0.9999043941497803 0.0492575466632843\n",
      "loved 1 0.9999052286148071 0.04994673654437065\n",
      "the 1 0.9995325803756714 0.048235516995191574\n",
      "soundtrack 1 0.9974483251571655 0.047890231013298035\n",
      "and 1 0.9896953105926514 0.048909272998571396\n",
      "especially 1 0.8525472283363342 0.05013358220458031\n",
      "those 1 0.7350447177886963 0.04887858033180237\n",
      "creative 0 0.7241254448890686 0.0\n",
      "dialogues. 1 0.9011035561561584 0.03765549883246422\n"
     ]
    },
    {
     "name": "stderr",
     "output_type": "stream",
     "text": [
      "/usr/local/lib/python3.7/site-packages/ipykernel_launcher.py:17: UserWarning: volatile was removed and now has no effect. Use `with torch.no_grad():` instead.\n"
     ]
    }
   ],
   "source": [
    "# test_sen = \"who is the President of India ?\" \n",
    "# test_sen = \"where is Rutgers University located ?\"\n",
    "# test_sen = \"at what time does the lecture begin ?\"\n",
    "''' Let us now predict the sentiment on a single sentence just for the testing purpose. '''\n",
    "test_sen = \"This is one of the best creation of Nolan. I can say, it's his magnum opus. Loved the soundtrack and especially those creative dialogues.\"\n",
    "# test_sen = \"Ohh, such a ridiculous movie. Not gonna recommend it to anyone. Complete waste of time and money.\"\n",
    "# test_sen = \"I admire Deepa Mehta and this movie is a masterpiece . I ’d recom- mend to buy this movie on DVD because it ’s a movie you might want to watch more often than just once . And trust me , you ’d still find little meaningful details after watching it several times. The characters - except for the grandmother perhaps - are all very bal- anced , no black and white . Even though you follow the story from the perspective of the two protagonists , there is also empathy for the other characters. I think the IMDb rating for the movie is far too low - probably due to its politically controversial content .\"\n",
    "\n",
    "\n",
    "test_sen_list = TEXT.preprocess(test_sen)\n",
    "print(test_sen_list)\n",
    "test_sen = [[TEXT.vocab.stoi[x] for x in test_sen_list]]\n",
    "# print(test_sen)\n",
    "\n",
    "test_sen = np.asarray(test_sen)\n",
    "test_sen = torch.LongTensor(test_sen)\n",
    "test_tensor = Variable(test_sen, volatile=True)\n",
    "\n",
    "# print(test_tensor)\n",
    "loaded_model.eval()\n",
    "prediction, g_t, alpha, p_t = loaded_model(test_tensor, is_train = False)\n",
    "print(\"prediction =\", prediction)\n",
    "#     print(\"g =\", g_t)\n",
    "\n",
    "for i in range(len(test_sen_list)):\n",
    "    print(test_sen_list[i], int(g_t[0][i]), float(p_t[0][i][0]), float(alpha[0][i][0]))\n",
    "out_class = torch.argmax(prediction)"
   ]
  },
  {
   "cell_type": "code",
   "execution_count": null,
   "metadata": {},
   "outputs": [],
   "source": []
  }
 ],
 "metadata": {
  "colab": {
   "collapsed_sections": [],
   "name": "GANet_IMDb_final.ipynb",
   "provenance": [
    {
     "file_id": "1a5zSTirGPVlCmJLI66dqth5P4tY14Osv",
     "timestamp": 1588374851188
    }
   ]
  },
  "kernelspec": {
   "display_name": "Python 3",
   "language": "python",
   "name": "python3"
  },
  "language_info": {
   "codemirror_mode": {
    "name": "ipython",
    "version": 3
   },
   "file_extension": ".py",
   "mimetype": "text/x-python",
   "name": "python",
   "nbconvert_exporter": "python",
   "pygments_lexer": "ipython3",
   "version": "3.7.6"
  }
 },
 "nbformat": 4,
 "nbformat_minor": 1
}
